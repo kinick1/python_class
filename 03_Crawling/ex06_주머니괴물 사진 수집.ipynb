{
 "cells": [
  {
   "cell_type": "markdown",
   "id": "302491b1",
   "metadata": {},
   "source": [
    "#### 포켓몬 이미지 데이터 수집\n",
    "- 이미지 다운받아서 폴더에 저장\n",
    "- 폴더 생성 자동화"
   ]
  },
  {
   "cell_type": "code",
   "execution_count": 3,
   "id": "e3336e66",
   "metadata": {},
   "outputs": [
    {
     "name": "stdout",
     "output_type": "stream",
     "text": [
      "폴더 생성\n"
     ]
    },
    {
     "name": "stderr",
     "output_type": "stream",
     "text": [
      "100%|██████████████████████████████████████████████████████████████████████████████| 1252/1252 [02:00<00:00, 10.40it/s]\n"
     ]
    }
   ],
   "source": [
    "# 폴더나 파일 생성 라이브러리\n",
    "import os\n",
    "from selenium import webdriver as wb\n",
    "from selenium.webdriver.common.by import By\n",
    "from selenium.webdriver.common.keys import Keys\n",
    "from bs4 import BeautifulSoup as bs\n",
    "\n",
    "from tqdm import tqdm as tq\n",
    "import time as tm\n",
    "\n",
    "# 해당 url을 기반으로 다눙로드 하는 도구\n",
    "from urllib.request import urlretrieve\n",
    "\n",
    "# os.mkdir('경로 및 폴더명')\n",
    "##    os.mkdir('C:/Users/smhrd/Desktop/주머니괴물')\n",
    "#os.mkdir('C:\\\\Users\\\\smhrd\\\\Desktop\\\\주머니괴물2')\n",
    "# escape코드로 인식되지 않게 하기\n",
    "\n",
    "# os.path.isdir(\"경로 및 폴더명\") : 해당 폴더가 있는지 확인(있으면 true)\n",
    "if os.path.isdir('C:/Users/smhrd/Desktop/주머니괴물'):\n",
    "    # 해당 경로에 폴더가 있는 경우\n",
    "    print(\"이미 폴더가 존재함\")\n",
    "else:\n",
    "    # 해당 경로에 폴더가 없는경우\n",
    "    os.mkdir('C:/Users/smhrd/Desktop/주머니괴물')\n",
    "    print('폴더 생성')\n",
    "\n",
    "\n",
    "driver=wb.Chrome()\n",
    "driver.get('https://www.pokemonkorea.co.kr/pokedex#pokedex_1')\n",
    "\n",
    "# 이미지 src 추출\n",
    "driver.page_source\n",
    "\n",
    "# 파싱\n",
    "soup=bs(driver.page_source,'lxml')\n",
    "\n",
    "driver.maximize_window()\n",
    "\n",
    "\n",
    "# 페이지의 처음길이\n",
    "old_height=driver.execute_script(\"return document.body.scrollHeight\")\n",
    "\n",
    "while 1:\n",
    "    # body 요소 가져와서 스크롤 하강!\n",
    "    body=driver.find_element(By.TAG_NAME,\"body\")\n",
    "    body.send_keys(Keys.END)\n",
    "    \n",
    "    tm.sleep(0.5)\n",
    "    \n",
    "    # 내리고 난 다음의 길이\n",
    "    new_height=driver.execute_script(\"return document.body.scrollHeight\")\n",
    "    \n",
    "    if old_height==new_height : #길이가 같은경우 멈추기\n",
    "        break\n",
    "    \n",
    "    old_height=new_height\n",
    "    tm.sleep(0.5)\n",
    "    \n",
    "# 파싱해서 지정\n",
    "soup=bs(driver.page_source,'lxml')\n",
    "\n",
    "soup_img=soup.select('img.img-fluid')\n",
    "len(soup_img)\n",
    "\n",
    "# 2.driver 자체에서 지정\n",
    "img=driver.find_elements(By.CSS_SELECTOR,\"img.img-fluid\")\n",
    "len(img)\n",
    "\n",
    "\n",
    "for i in tq(range(len(img))):\n",
    "    urlretrieve(img[i].get_attribute('src'),f\"C:/Users/smhrd/Desktop/주머니괴물/주머니괴물{i+1}.jpg\")\n",
    "driver.quit()"
   ]
  },
  {
   "cell_type": "markdown",
   "id": "3938645d",
   "metadata": {},
   "source": [
    "#### 단축키\n",
    "- 셀 합치기 : shift + m(다중선택된 셀을 합치기)\n",
    "- 셀 나누기 : ctrl + shift + '-'"
   ]
  },
  {
   "cell_type": "code",
   "execution_count": 34,
   "id": "ed537590",
   "metadata": {},
   "outputs": [],
   "source": [
    "# 로드되어 있지 않은 요소들을 전부 load하기 위해서는 스크롤 최하단으로 내려야함!\n",
    "body=driver.find_element(By.TAG_NAME,\"body\")\n",
    "body.send_keys(Keys.END)"
   ]
  },
  {
   "cell_type": "code",
   "execution_count": null,
   "id": "067c88db",
   "metadata": {},
   "outputs": [],
   "source": [
    "# execute_script(): script문 실행 함수\n",
    "# return document.body.scrollHeight : 페이지의 길이 반환(px단위)\n",
    "driver.execute_script(\"return document.body.scrollHeight\")"
   ]
  },
  {
   "cell_type": "code",
   "execution_count": 51,
   "id": "d8a4ab2d",
   "metadata": {},
   "outputs": [
    {
     "data": {
      "text/plain": [
       "'https://data1.pokemonkorea.co.kr/newdata/pokedex/mid/000101.png'"
      ]
     },
     "execution_count": 51,
     "metadata": {},
     "output_type": "execute_result"
    }
   ],
   "source": [
    "soup_img[0]['src']"
   ]
  },
  {
   "cell_type": "code",
   "execution_count": 52,
   "id": "e77d58e5",
   "metadata": {},
   "outputs": [
    {
     "data": {
      "text/plain": [
       "'https://data1.pokemonkorea.co.kr/newdata/pokedex/mid/000101.png'"
      ]
     },
     "execution_count": 52,
     "metadata": {},
     "output_type": "execute_result"
    }
   ],
   "source": [
    "# src 추출\n",
    "img[0].get_attribute('src')"
   ]
  },
  {
   "cell_type": "code",
   "execution_count": 53,
   "id": "ed7b8bf0",
   "metadata": {},
   "outputs": [],
   "source": [
    "# 해당 url을 기반으로 다눙로드 하는 도구\n",
    "from urllib.request import urlretrieve"
   ]
  },
  {
   "cell_type": "code",
   "execution_count": 42,
   "id": "9eedef7d",
   "metadata": {
    "scrolled": true
   },
   "outputs": [
    {
     "data": {
      "text/plain": [
       "('C:/Users/smhrd/Desktop/주머니괴물/주머니괴물1.jpg',\n",
       " <http.client.HTTPMessage at 0x2aec0b46290>)"
      ]
     },
     "execution_count": 42,
     "metadata": {},
     "output_type": "execute_result"
    }
   ],
   "source": [
    "urlretrieve(img[0].get_attribute('src'),'C:/Users/smhrd/Desktop/주머니괴물/주머니괴물1.jpg')"
   ]
  },
  {
   "cell_type": "code",
   "execution_count": 4,
   "id": "9181e303",
   "metadata": {},
   "outputs": [],
   "source": [
    "driver.quit()"
   ]
  },
  {
   "cell_type": "code",
   "execution_count": 2,
   "id": "2ee3461f",
   "metadata": {},
   "outputs": [],
   "source": []
  },
  {
   "cell_type": "code",
   "execution_count": 23,
   "id": "e7b7c402",
   "metadata": {
    "collapsed": true
   },
   "outputs": [
    {
     "ename": "SyntaxError",
     "evalue": "f-string: empty expression not allowed (1121796889.py, line 1)",
     "output_type": "error",
     "traceback": [
      "\u001b[1;36m  Cell \u001b[1;32mIn[23], line 1\u001b[1;36m\u001b[0m\n\u001b[1;33m    print(f'sadsad{}s')\u001b[0m\n\u001b[1;37m                      ^\u001b[0m\n\u001b[1;31mSyntaxError\u001b[0m\u001b[1;31m:\u001b[0m f-string: empty expression not allowed\n"
     ]
    }
   ],
   "source": []
  },
  {
   "cell_type": "code",
   "execution_count": null,
   "id": "39e6769e",
   "metadata": {},
   "outputs": [],
   "source": []
  },
  {
   "cell_type": "code",
   "execution_count": null,
   "id": "d30a91aa",
   "metadata": {},
   "outputs": [],
   "source": []
  },
  {
   "cell_type": "code",
   "execution_count": null,
   "id": "23a48788",
   "metadata": {},
   "outputs": [],
   "source": []
  },
  {
   "cell_type": "code",
   "execution_count": null,
   "id": "21f0df15",
   "metadata": {},
   "outputs": [],
   "source": []
  },
  {
   "cell_type": "code",
   "execution_count": null,
   "id": "a177e5fb",
   "metadata": {},
   "outputs": [],
   "source": []
  },
  {
   "cell_type": "code",
   "execution_count": null,
   "id": "6a6b2e9f",
   "metadata": {},
   "outputs": [],
   "source": []
  },
  {
   "cell_type": "code",
   "execution_count": null,
   "id": "21fd8146",
   "metadata": {},
   "outputs": [],
   "source": []
  },
  {
   "cell_type": "code",
   "execution_count": null,
   "id": "45d67ffb",
   "metadata": {},
   "outputs": [],
   "source": []
  },
  {
   "cell_type": "code",
   "execution_count": null,
   "id": "2e7d0f8f",
   "metadata": {},
   "outputs": [],
   "source": []
  },
  {
   "cell_type": "code",
   "execution_count": null,
   "id": "5f670dfc",
   "metadata": {},
   "outputs": [],
   "source": []
  },
  {
   "cell_type": "code",
   "execution_count": null,
   "id": "cde7e90f",
   "metadata": {},
   "outputs": [],
   "source": []
  }
 ],
 "metadata": {
  "kernelspec": {
   "display_name": "Python 3 (ipykernel)",
   "language": "python",
   "name": "python3"
  },
  "language_info": {
   "codemirror_mode": {
    "name": "ipython",
    "version": 3
   },
   "file_extension": ".py",
   "mimetype": "text/x-python",
   "name": "python",
   "nbconvert_exporter": "python",
   "pygments_lexer": "ipython3",
   "version": "3.11.5"
  }
 },
 "nbformat": 4,
 "nbformat_minor": 5
}
