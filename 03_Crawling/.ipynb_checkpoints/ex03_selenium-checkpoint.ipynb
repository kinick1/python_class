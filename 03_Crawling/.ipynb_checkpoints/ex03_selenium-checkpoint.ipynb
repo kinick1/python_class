{
 "cells": [
  {
   "cell_type": "markdown",
   "id": "fb14db88",
   "metadata": {},
   "source": [
    "#### selenium 라이브러리 불러오기\n",
    "- 웹페이지를 제어하기 위한 라이브러리"
   ]
  },
  {
   "cell_type": "code",
   "execution_count": 8,
   "id": "71acbecb",
   "metadata": {
    "collapsed": true
   },
   "outputs": [
    {
     "name": "stdout",
     "output_type": "stream",
     "text": [
      "Requirement already satisfied: selenium in c:\\users\\smhrd\\anaconda3\\lib\\site-packages (4.18.1)\n",
      "Requirement already satisfied: urllib3[socks]<3,>=1.26 in c:\\users\\smhrd\\anaconda3\\lib\\site-packages (from selenium) (1.26.16)\n",
      "Requirement already satisfied: trio~=0.17 in c:\\users\\smhrd\\anaconda3\\lib\\site-packages (from selenium) (0.24.0)\n",
      "Requirement already satisfied: trio-websocket~=0.9 in c:\\users\\smhrd\\anaconda3\\lib\\site-packages (from selenium) (0.11.1)\n",
      "Requirement already satisfied: certifi>=2021.10.8 in c:\\users\\smhrd\\anaconda3\\lib\\site-packages (from selenium) (2023.7.22)\n",
      "Requirement already satisfied: typing_extensions>=4.9.0 in c:\\users\\smhrd\\anaconda3\\lib\\site-packages (from selenium) (4.10.0)\n",
      "Requirement already satisfied: attrs>=20.1.0 in c:\\users\\smhrd\\anaconda3\\lib\\site-packages (from trio~=0.17->selenium) (22.1.0)\n",
      "Requirement already satisfied: sortedcontainers in c:\\users\\smhrd\\anaconda3\\lib\\site-packages (from trio~=0.17->selenium) (2.4.0)\n",
      "Requirement already satisfied: idna in c:\\users\\smhrd\\anaconda3\\lib\\site-packages (from trio~=0.17->selenium) (3.4)\n",
      "Requirement already satisfied: outcome in c:\\users\\smhrd\\anaconda3\\lib\\site-packages (from trio~=0.17->selenium) (1.3.0.post0)\n",
      "Requirement already satisfied: sniffio>=1.3.0 in c:\\users\\smhrd\\anaconda3\\lib\\site-packages (from trio~=0.17->selenium) (1.3.1)\n",
      "Requirement already satisfied: cffi>=1.14 in c:\\users\\smhrd\\anaconda3\\lib\\site-packages (from trio~=0.17->selenium) (1.15.1)\n",
      "Requirement already satisfied: wsproto>=0.14 in c:\\users\\smhrd\\anaconda3\\lib\\site-packages (from trio-websocket~=0.9->selenium) (1.2.0)\n",
      "Requirement already satisfied: PySocks!=1.5.7,<2.0,>=1.5.6 in c:\\users\\smhrd\\anaconda3\\lib\\site-packages (from urllib3[socks]<3,>=1.26->selenium) (1.7.1)\n",
      "Requirement already satisfied: pycparser in c:\\users\\smhrd\\anaconda3\\lib\\site-packages (from cffi>=1.14->trio~=0.17->selenium) (2.21)\n",
      "Requirement already satisfied: h11<1,>=0.9.0 in c:\\users\\smhrd\\anaconda3\\lib\\site-packages (from wsproto>=0.14->trio-websocket~=0.9->selenium) (0.14.0)\n"
     ]
    }
   ],
   "source": [
    "# 기본으로 설치되어있는 라이브러리가 아니프로 설치해야한다\n",
    "!pip install selenium"
   ]
  },
  {
   "cell_type": "code",
   "execution_count": 9,
   "id": "03e2162c",
   "metadata": {},
   "outputs": [],
   "source": [
    "from selenium import webdriver as wb\n",
    "# webdriver -> 웹 브라우저를 제어하기 위한 라이브러리\n",
    "from selenium.webdriver.common.keys import Keys\n",
    "# Keys -> 웹을 통해서 값을 '입력' 하기 위한 라이브러리 >> 컴퓨터용 키보드\n",
    "from selenium.webdriver.common.by import By\n",
    "# By -> html문서에서 태그 선택자를 찾기 위한 라이브러리"
   ]
  },
  {
   "cell_type": "markdown",
   "id": "79ff652b",
   "metadata": {},
   "source": [
    "#### selenium 환경설정\n",
    "- 사영자가 사용하는 드라이버와 컴퓨터가 사용하는 드라이버가 구분되어있기 때문에\n",
    "- 크롬 드라이버를 최신 버전으로 업데이트 해줘야 정상적으로 실행이 가능하다"
   ]
  },
  {
   "cell_type": "code",
   "execution_count": null,
   "id": "66f6d4ef",
   "metadata": {},
   "outputs": [],
   "source": [
    "# 크롬 드라이브 버전확인 방법\n",
    "# 우측상단의 점3개버튼 클릭 -> 설정 -> 좌측하단의 chrome정보 -> 버전 확인 (앞의 3자리 숫자가 중요) 122\n",
    "# 크롬 드라이버 최신 버전 업데이터 방법\n",
    "# 사용중인 크롬 버전과 일치하는 드라이버를 크롤링 폴더에 다운로드"
   ]
  },
  {
   "cell_type": "code",
   "execution_count": 16,
   "id": "030fd764",
   "metadata": {},
   "outputs": [],
   "source": [
    "# 크롬 드라이버 실행\n",
    "driver=wb.Chrome()\n",
    "# driver라는 변수가 페이지의 모든 정보를 가지게 된다\n",
    "\n",
    "#주소를 알려주지 않아서 빈 창이 떳다 떳다 비행기\n",
    "# requests에서 사용했던 get 메소드를 사용해서 페이지의 url을 입력\n",
    "driver.get('https://www.naver.com/')"
   ]
  },
  {
   "cell_type": "code",
   "execution_count": 17,
   "id": "acdea1fb",
   "metadata": {},
   "outputs": [
    {
     "data": {
      "text/plain": [
       "<selenium.webdriver.remote.webelement.WebElement (session=\"52e776edd73a141788d915a850828833\", element=\"f.84C73ABD36368530C25810E1CED1E832.d.1EEA24713CCBDE8FE5AAA50C3D43AED4.e.4\")>"
      ]
     },
     "execution_count": 17,
     "metadata": {},
     "output_type": "execute_result"
    }
   ],
   "source": [
    "# 검색창의 위치 찾기 --> 위치? >> 태그\n",
    "driver.find_element(By.ID,'query')"
   ]
  },
  {
   "cell_type": "code",
   "execution_count": 34,
   "id": "5ff147a7",
   "metadata": {},
   "outputs": [],
   "source": [
    "search=driver.find_element(By.ID,'query') # 검색창의 위치를 변수에 저장"
   ]
  },
  {
   "cell_type": "code",
   "execution_count": 35,
   "id": "fbc72404",
   "metadata": {
    "scrolled": true
   },
   "outputs": [],
   "source": [
    "# 검색어 입력하기\n",
    "# search -> 검색창의 위치\n",
    "# send_keys('단어') -> '단어'라는 키워드를 전송\n",
    "search.send_keys('바나나')"
   ]
  },
  {
   "cell_type": "code",
   "execution_count": 37,
   "id": "e5dfca86",
   "metadata": {},
   "outputs": [],
   "source": [
    "# 검색버튼 클릭\n",
    "btn=driver.find_element(By.ID,'search-btn')"
   ]
  },
  {
   "cell_type": "code",
   "execution_count": 38,
   "id": "fd4828d3",
   "metadata": {},
   "outputs": [],
   "source": [
    "btn.click()"
   ]
  },
  {
   "cell_type": "code",
   "execution_count": 40,
   "id": "3d391428",
   "metadata": {},
   "outputs": [],
   "source": [
    "driver.back() # 크롬창 뒤로가기"
   ]
  },
  {
   "cell_type": "code",
   "execution_count": 41,
   "id": "c9537d98",
   "metadata": {},
   "outputs": [],
   "source": [
    "# 엔터\n",
    "search=driver.find_element(By.ID,'query')\n",
    "search.send_keys('씨푸드 보일')\n",
    "# -> 키보드에 있는 enter 버튼 기능 사용\n",
    "# -> search.send_keys(Keys.ENTER) -> 키보드에 있는 enter기능을 실행해주세요\n",
    "# -> search.send_keys('ENTER') -> 검색창에 enter을 입력해줘\n",
    "search.send_keys(Keys.ENTER)"
   ]
  },
  {
   "cell_type": "code",
   "execution_count": 42,
   "id": "45f122d1",
   "metadata": {},
   "outputs": [],
   "source": [
    "# 검색끝~ 크롬창 종료\n",
    "driver.quit() # 탭 전체 종료"
   ]
  },
  {
   "cell_type": "code",
   "execution_count": null,
   "id": "e74d6f79",
   "metadata": {},
   "outputs": [],
   "source": [
    "driver.close() # 하나만 종료"
   ]
  }
 ],
 "metadata": {
  "kernelspec": {
   "display_name": "Python 3 (ipykernel)",
   "language": "python",
   "name": "python3"
  },
  "language_info": {
   "codemirror_mode": {
    "name": "ipython",
    "version": 3
   },
   "file_extension": ".py",
   "mimetype": "text/x-python",
   "name": "python",
   "nbconvert_exporter": "python",
   "pygments_lexer": "ipython3",
   "version": "3.11.5"
  }
 },
 "nbformat": 4,
 "nbformat_minor": 5
}
