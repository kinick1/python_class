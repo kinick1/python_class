{
 "cells": [
  {
   "cell_type": "code",
   "execution_count": 2,
   "id": "7aaf53a4",
   "metadata": {},
   "outputs": [
    {
     "name": "stdout",
     "output_type": "stream",
     "text": [
      "Requirement already satisfied: webdriver-manager in c:\\users\\smhrd\\anaconda3\\lib\\site-packages (4.0.1)\n",
      "Requirement already satisfied: requests in c:\\users\\smhrd\\anaconda3\\lib\\site-packages (from webdriver-manager) (2.31.0)\n",
      "Requirement already satisfied: python-dotenv in c:\\users\\smhrd\\anaconda3\\lib\\site-packages (from webdriver-manager) (0.21.0)\n",
      "Requirement already satisfied: packaging in c:\\users\\smhrd\\anaconda3\\lib\\site-packages (from webdriver-manager) (23.1)\n",
      "Requirement already satisfied: charset-normalizer<4,>=2 in c:\\users\\smhrd\\anaconda3\\lib\\site-packages (from requests->webdriver-manager) (2.0.4)\n",
      "Requirement already satisfied: idna<4,>=2.5 in c:\\users\\smhrd\\anaconda3\\lib\\site-packages (from requests->webdriver-manager) (3.4)\n",
      "Requirement already satisfied: urllib3<3,>=1.21.1 in c:\\users\\smhrd\\anaconda3\\lib\\site-packages (from requests->webdriver-manager) (1.26.16)\n",
      "Requirement already satisfied: certifi>=2017.4.17 in c:\\users\\smhrd\\anaconda3\\lib\\site-packages (from requests->webdriver-manager) (2023.7.22)\n"
     ]
    }
   ],
   "source": [
    "!pip install webdriver-manager\n",
    "from selenium import webdriver as wb\n",
    "from selenium.webdriver.common.keys import Keys\n",
    "from selenium.webdriver.common.by import By\n",
    "\n",
    "from bs4 import BeautifulSoup as bs\n",
    "\n",
    "import time\n",
    "\n",
    "import pandas as pd"
   ]
  },
  {
   "cell_type": "code",
   "execution_count": 3,
   "id": "06619754",
   "metadata": {},
   "outputs": [],
   "source": [
    "driver=wb.Chrome()\n",
    "driver.get('https://www.gmarket.co.kr/n/best')"
   ]
  },
  {
   "cell_type": "code",
   "execution_count": 4,
   "id": "443406ad",
   "metadata": {},
   "outputs": [],
   "source": [
    "# 클릭할 요소 가져오기\n",
    "image=driver.find_elements(By.CLASS_NAME,'image__lazy.image__load')"
   ]
  },
  {
   "cell_type": "code",
   "execution_count": 5,
   "id": "c03a0af6",
   "metadata": {},
   "outputs": [],
   "source": [
    "image[0].click()"
   ]
  },
  {
   "cell_type": "code",
   "execution_count": 6,
   "id": "c9614b75",
   "metadata": {},
   "outputs": [
    {
     "data": {
      "text/plain": [
       "('라운드넥티셔츠',\n",
       " '((단하루 10%+10%쿠폰)) 시크릿무드 역마진 파격SALE/바람막이/자켓/원피스/니트/팬츠 외 미시룩BEST',\n",
       " '9,900원')"
      ]
     },
     "execution_count": 6,
     "metadata": {},
     "output_type": "execute_result"
    }
   ],
   "source": [
    "# 카테고리, 상품명, 가격 수집!\n",
    "cate = driver.find_element(By.CSS_SELECTOR, \n",
    "                           \"div.location-navi > ul > li.on > a\").text\n",
    "title = driver.find_element(By.CSS_SELECTOR, \n",
    "                           \"#itemcase_basic > div.box__item-title > h1\").text\n",
    "price = driver.find_element(By.CSS_SELECTOR, \n",
    "                           \"#itemcase_basic > div.box__item-title > div.price > span:nth-child(2) > strong\").text\n",
    "cate,title,price"
   ]
  },
  {
   "cell_type": "code",
   "execution_count": 7,
   "id": "cf4c2c48",
   "metadata": {},
   "outputs": [],
   "source": [
    "driver.back()"
   ]
  },
  {
   "cell_type": "code",
   "execution_count": 9,
   "id": "e043204b",
   "metadata": {},
   "outputs": [],
   "source": [
    "from selenium.webdriver.chrome.service import Service # 경로 반환\n",
    "from webdriver_manager.chrome import ChromeDriverManager # 크롬 드라이버 관리자\n",
    "from selenium import webdriver as wb\n",
    "from selenium.webdriver.common.keys import Keys\n",
    "from selenium.webdriver.common.by import By\n",
    "from bs4 import BeautifulSoup as bs\n",
    "import time as tm\n",
    "import pandas as pd\n",
    "from tqdm import tqdm as tq # 반복문 시각화 하는 도구\n",
    "\n",
    "# image[1].click() 만 실행 할 경우 에러 \n",
    "# driver를 통해 웹 브라우저에 명령을 내리기 위해서는 현재 웹 페이지 정보에서만 가능\n",
    "# 근데 뒤로가기와 같은 페이지 새로고침이 일어날 경우\n",
    "#  다시 웹 페이지에 접근해서 요소에 접근해야함\n",
    "\n",
    "s=Service(ChromeDriverManager().install())\n",
    "driver=wb.Chrome(service=s)\n",
    "driver.get('https://www.gmarket.co.kr/n/best')\n",
    "\n",
    "lst1=[]\n",
    "lst2=[]\n",
    "lst3=[]\n",
    "\n",
    "for i in tq(range(50)):\n",
    "    image=driver.find_elements(By.CLASS_NAME,'image__lazy.image__load')\n",
    "    image[i].click()\n",
    "    \n",
    "    tm.sleep(1)\n",
    "    cate = driver.find_element(By.CSS_SELECTOR, \"div.location-navi > ul > li.on > a\").text\n",
    "    title = driver.find_element(By.CSS_SELECTOR, \"#itemcase_basic > div.box__item-title > h1\").text\n",
    "    price = driver.find_element(By.CSS_SELECTOR, \"#itemcase_basic > div.box__item-title > div.price > span:nth-child(2) > strong\").text\n",
    "    \n",
    "    lst1.append(cate)\n",
    "    lst2.append(title)\n",
    "    lst3.append(price)\n",
    "    \n",
    "    tm.sleep(1)\n",
    "    driver.back()\n",
    "\n",
    "driver.quit()\n",
    "\n",
    "df=pd.DataFrame({'카테고리':lst1,'상품명':lst2,'가격':lst3})\n",
    "df\n",
    "\n",
    "# csv 형식으로 저장\n",
    "# time.strftime(\"%Y%m%d_%H%M%S\")\n",
    "# 현재 시전을 기준으로 연도, 월, 일, 시, 분, 초 ,문자열형으로 반환\n",
    "df.to_csv(f\"{time.strftime('%Y%m%d_%H%M%S')} G마켓 Bestsell top 50.csv\",encoding='utf-8')"
   ]
  },
  {
   "cell_type": "code",
   "execution_count": null,
   "id": "f41390c4",
   "metadata": {},
   "outputs": [],
   "source": []
  },
  {
   "cell_type": "code",
   "execution_count": null,
   "id": "ff6b7f96",
   "metadata": {},
   "outputs": [],
   "source": []
  },
  {
   "cell_type": "code",
   "execution_count": null,
   "id": "e531b450",
   "metadata": {},
   "outputs": [],
   "source": []
  }
 ],
 "metadata": {
  "kernelspec": {
   "display_name": "Python 3 (ipykernel)",
   "language": "python",
   "name": "python3"
  },
  "language_info": {
   "codemirror_mode": {
    "name": "ipython",
    "version": 3
   },
   "file_extension": ".py",
   "mimetype": "text/x-python",
   "name": "python",
   "nbconvert_exporter": "python",
   "pygments_lexer": "ipython3",
   "version": "3.11.5"
  }
 },
 "nbformat": 4,
 "nbformat_minor": 5
}
