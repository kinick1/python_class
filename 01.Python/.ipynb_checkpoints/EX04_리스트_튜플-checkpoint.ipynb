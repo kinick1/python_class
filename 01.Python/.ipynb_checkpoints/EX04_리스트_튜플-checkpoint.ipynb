{
 "cells": [
  {
   "cell_type": "markdown",
   "id": "1318db19",
   "metadata": {},
   "source": [
    "### 리스트란?\n",
    "- list\n",
    "- 파이썬의 자료 구조 형태 중 하나\n",
    "- 순서가 있는 수정 가능한 객체의 집합 : 추가, 수정, 삭제, 가능\n",
    "- 기호는 대괄호([])를 사용하고, 내부의 요소는 콤마(,)로 구분"
   ]
  },
  {
   "cell_type": "code",
   "execution_count": 2,
   "id": "ef48c7d1",
   "metadata": {},
   "outputs": [
    {
     "data": {
      "text/plain": [
       "[1, ['my', 'name']]"
      ]
     },
     "execution_count": 2,
     "metadata": {},
     "output_type": "execute_result"
    }
   ],
   "source": [
    "# 빈리스트\n",
    "lst=[]\n",
    "\n",
    "#숫자형 요소값을 담은 리스트\n",
    "lst2=[1,2,3]\n",
    "\n",
    "# 문자열 요소값을 담은 리스트\n",
    "lst3=['my','name']\n",
    "\n",
    "# 숫자형과 문자열을 같이 담고 있는 리스트\n",
    "lst4=[1,'my','name']\n",
    "\n",
    "# 숫자형과 리스트 요소를 가지는 리스트\n",
    "lst5=[1,['my','name']]\n",
    "lst5"
   ]
  },
  {
   "cell_type": "code",
   "execution_count": 4,
   "id": "ef09ffb9",
   "metadata": {},
   "outputs": [],
   "source": [
    "# 리스트는 자료를 변수 하나에 한 개만 저장하는 것이 아니라!\n",
    "# 여러 개를 동시에 저장할 수 있도록 하는 자료 구조\n",
    "# 중요한 포인트! --> 더 많은 데이터(리스트의 요소단위)를 저장하기 위함"
   ]
  },
  {
   "cell_type": "markdown",
   "id": "2892c9fd",
   "metadata": {},
   "source": [
    "### 리스트 인덱싱&슬라이싱\n",
    "- 리스트에 여러 값을 저장하고 각 데이터값에 접근하는 방법\n",
    "- 인덱싱(Indexing): 무엇인가를 '가르킨다'는 의미\n",
    "- 슬라이싱(Slicing): 무엇인가를 '잘라낸다'는 의미"
   ]
  },
  {
   "cell_type": "markdown",
   "id": "a4c4e852",
   "metadata": {},
   "source": [
    "#### 리스트 인덱싱\n",
    "- 리스트이름[인덱스 번호]"
   ]
  },
  {
   "cell_type": "code",
   "execution_count": 10,
   "id": "b099ca20",
   "metadata": {},
   "outputs": [
    {
     "name": "stdout",
     "output_type": "stream",
     "text": [
      "2라는 요소 값 접근 :  2\n",
      "7라는 요소 값 접근 :  7\n",
      "10라는 요소 값 접근 :  10\n",
      "0번째와 4번째 요소값 더하기! :  12\n"
     ]
    }
   ],
   "source": [
    "lst1=[2,5,7,9,10]\n",
    "lst1\n",
    "\n",
    "#[]를 사용해서 인덱스 번호에 접근\n",
    "print('2라는 요소 값 접근 : ',lst1[0])\n",
    "print('7라는 요소 값 접근 : ',lst1[2])\n",
    "print('10라는 요소 값 접근 : ',lst1[4])\n",
    "# 인덱싱을 하고하면 자료의 형태가 변한다?!\n",
    "# --> 요소값끼리 인덱싱해서 연산하는게 가능!\n",
    "print('0번째와 4번째 요소값 더하기! : ',lst1[0] + lst1[4])"
   ]
  },
  {
   "cell_type": "markdown",
   "id": "4afaa0aa",
   "metadata": {},
   "source": [
    "#### 리스트 인덱싱 예제\n",
    "- 'b'라는 값에 접근 해보시오"
   ]
  },
  {
   "cell_type": "code",
   "execution_count": 14,
   "id": "1cf1fc03",
   "metadata": {},
   "outputs": [
    {
     "name": "stdout",
     "output_type": "stream",
     "text": [
      "b\n",
      "b\n"
     ]
    }
   ],
   "source": [
    "lst2=[1,2,3,['a','b','c']]\n",
    "lst2\n",
    "lst3=lst2[3]\n",
    "lst3\n",
    "print(lst3[1])\n",
    "print(lst2[3][1])"
   ]
  },
  {
   "cell_type": "markdown",
   "id": "8e9035b3",
   "metadata": {},
   "source": [
    "#### 리스트 슬라이싱\n",
    "- 리스트이름[시작 인덱스 값:끝 인덱스 값+!]\n",
    "- 시작 인덱스부터 끝 인덱스까지 범위 값을 반환(끝 인덱스는 포함되지 않는다)"
   ]
  },
  {
   "cell_type": "code",
   "execution_count": 19,
   "id": "ea4c8510",
   "metadata": {},
   "outputs": [
    {
     "data": {
      "text/plain": [
       "[1, 2]"
      ]
     },
     "execution_count": 19,
     "metadata": {},
     "output_type": "execute_result"
    }
   ],
   "source": [
    "lst3=[0,1,2,3,4]\n",
    "# 1부터 2요소값에 접근\n",
    "lst3[1:3]"
   ]
  },
  {
   "cell_type": "code",
   "execution_count": 20,
   "id": "89754a5a",
   "metadata": {},
   "outputs": [
    {
     "data": {
      "text/plain": [
       "[0, 1]"
      ]
     },
     "execution_count": 20,
     "metadata": {},
     "output_type": "execute_result"
    }
   ],
   "source": [
    "lst3[0:2]"
   ]
  },
  {
   "cell_type": "code",
   "execution_count": 21,
   "id": "1c826dc4",
   "metadata": {},
   "outputs": [
    {
     "data": {
      "text/plain": [
       "[3, 4]"
      ]
     },
     "execution_count": 21,
     "metadata": {},
     "output_type": "execute_result"
    }
   ],
   "source": [
    "lst3[3:5]"
   ]
  },
  {
   "cell_type": "code",
   "execution_count": 24,
   "id": "a11a27a2",
   "metadata": {},
   "outputs": [
    {
     "data": {
      "text/plain": [
       "[0, 1, 2, 3]"
      ]
     },
     "execution_count": 24,
     "metadata": {},
     "output_type": "execute_result"
    }
   ],
   "source": [
    "lst3[:-1]"
   ]
  },
  {
   "cell_type": "code",
   "execution_count": 26,
   "id": "3d9415ee",
   "metadata": {},
   "outputs": [
    {
     "data": {
      "text/plain": [
       "[0, 1, 2, 3, 4]"
      ]
     },
     "execution_count": 26,
     "metadata": {},
     "output_type": "execute_result"
    }
   ],
   "source": [
    "# 리스트에 있는 모든 요소값에 접근 \n",
    "lst3[0:5]\n",
    "lst3[:]"
   ]
  },
  {
   "cell_type": "markdown",
   "id": "d5adc7bd",
   "metadata": {},
   "source": [
    "#### 리스트\n",
    "- 리스트와 리스트끼리 더하면?"
   ]
  },
  {
   "cell_type": "code",
   "execution_count": 29,
   "id": "cbeebf39",
   "metadata": {},
   "outputs": [
    {
     "data": {
      "text/plain": [
       "[1, 2, 3, 3, 4, 5, 6]"
      ]
     },
     "execution_count": 29,
     "metadata": {},
     "output_type": "execute_result"
    }
   ],
   "source": [
    "lst4=[1,2,3]\n",
    "lst5=[3,4,5,6]\n",
    "lst4+lst5 #연결연산을 하게된다, 숫자끼리(요소끼리) 연산 x"
   ]
  },
  {
   "cell_type": "markdown",
   "id": "be3c4b23",
   "metadata": {},
   "source": [
    "### 리스트 관련 함수★"
   ]
  },
  {
   "cell_type": "markdown",
   "id": "1ffbe938",
   "metadata": {},
   "source": [
    "#### 리스트에 값을 추가하는 함수: append(), insert()\n",
    "- append(): 리스트의 맨 뒤에 값을 추가하는 함수\n",
    "- insert(): 사용자가 지정한 위치에 값을 추가하는 함수"
   ]
  },
  {
   "cell_type": "code",
   "execution_count": 37,
   "id": "1b96b408",
   "metadata": {},
   "outputs": [],
   "source": [
    "# append 함수: 리스트이름.append(값)\n",
    "lst_fs=['사과','포도',['수박','멜론'],'복숭아','딸기','오랜지']"
   ]
  },
  {
   "cell_type": "code",
   "execution_count": 43,
   "id": "3b2c7d6e",
   "metadata": {},
   "outputs": [],
   "source": [
    "# 내가 좋아하는 과일만 인덱싱해서 빈 리스트 안에 차곡차곡 집어넣기\n",
    "# 빈 리스트의 이름은 choice_lst 라고 함\n",
    "choice_lst=[] #새 리스트 생성및 초기화\n",
    "choice_lst.append(lst_fs[0])\n",
    "choice_lst.append(lst_fs[2][0])\n",
    "choice_lst.append('블루베리')"
   ]
  },
  {
   "cell_type": "code",
   "execution_count": 49,
   "id": "7094bb60",
   "metadata": {},
   "outputs": [
    {
     "data": {
      "text/plain": [
       "['사과', '수박', '블루베리']"
      ]
     },
     "execution_count": 49,
     "metadata": {},
     "output_type": "execute_result"
    }
   ],
   "source": [
    "choice_lst"
   ]
  },
  {
   "cell_type": "markdown",
   "id": "f71be891",
   "metadata": {},
   "source": [
    "## 2024/02/21"
   ]
  },
  {
   "cell_type": "code",
   "execution_count": 27,
   "id": "62c7f631",
   "metadata": {},
   "outputs": [],
   "source": [
    "lst5=[0,1,2,3,4]\n",
    "lst5.insert(1,6)"
   ]
  },
  {
   "cell_type": "code",
   "execution_count": 30,
   "id": "705b7d1d",
   "metadata": {},
   "outputs": [
    {
     "data": {
      "text/plain": [
       "[3, 4, 5, 6]"
      ]
     },
     "execution_count": 30,
     "metadata": {},
     "output_type": "execute_result"
    }
   ],
   "source": [
    "lst5 # insert시 입력된 인덱스 번호의 값부터 데이터들이 뒤로 한칸씩 뒤로 밀려남"
   ]
  },
  {
   "cell_type": "markdown",
   "id": "c8e77665",
   "metadata": {},
   "source": [
    "- 리스트 insert 실습 예제"
   ]
  },
  {
   "cell_type": "markdown",
   "id": "6c185301",
   "metadata": {},
   "source": [
    "정수 형태의 인덱스 값과 노래 제목, 가수명을 각각 입력 받은 후 변수에 저장하고, insert함수를 이용하여 리스트music_lst에 새로운 값을 추가하시오"
   ]
  },
  {
   "cell_type": "code",
   "execution_count": 32,
   "id": "c29e01d9",
   "metadata": {},
   "outputs": [
    {
     "data": {
      "text/plain": [
       "[['홀씨', '아이유'], ['butter', 'bts'], ['저 바다에 누워', '이무진']]"
      ]
     },
     "execution_count": 32,
     "metadata": {},
     "output_type": "execute_result"
    }
   ],
   "source": [
    "music_lst=[['홀씨','아이유'],['butter','bts'],['저 바다에 누워', '이무진']]\n",
    "music_lst"
   ]
  },
  {
   "cell_type": "code",
   "execution_count": 34,
   "id": "2d4efde8",
   "metadata": {
    "collapsed": true
   },
   "outputs": [
    {
     "ename": "KeyboardInterrupt",
     "evalue": "Interrupted by user",
     "output_type": "error",
     "traceback": [
      "\u001b[1;31m---------------------------------------------------------------------------\u001b[0m",
      "\u001b[1;31mKeyboardInterrupt\u001b[0m                         Traceback (most recent call last)",
      "Cell \u001b[1;32mIn[34], line 1\u001b[0m\n\u001b[1;32m----> 1\u001b[0m loc\u001b[38;5;241m=\u001b[39m\u001b[38;5;28mint\u001b[39m(\u001b[38;5;28minput\u001b[39m(\u001b[38;5;124m\"\u001b[39m\u001b[38;5;124m인덱스 위치 입력 >>> \u001b[39m\u001b[38;5;124m\"\u001b[39m))\n\u001b[0;32m      2\u001b[0m song\u001b[38;5;241m=\u001b[39m\u001b[38;5;28minput\u001b[39m(\u001b[38;5;124m\"\u001b[39m\u001b[38;5;124m노래 제목 입력 >>> \u001b[39m\u001b[38;5;124m\"\u001b[39m)\n\u001b[0;32m      3\u001b[0m singer\u001b[38;5;241m=\u001b[39m\u001b[38;5;28minput\u001b[39m(\u001b[38;5;124m\"\u001b[39m\u001b[38;5;124m아티스트 입력 >>> \u001b[39m\u001b[38;5;124m\"\u001b[39m)\n",
      "File \u001b[1;32m~\\anaconda3\\Lib\\site-packages\\ipykernel\\kernelbase.py:1202\u001b[0m, in \u001b[0;36mKernel.raw_input\u001b[1;34m(self, prompt)\u001b[0m\n\u001b[0;32m   1200\u001b[0m     msg \u001b[38;5;241m=\u001b[39m \u001b[38;5;124m\"\u001b[39m\u001b[38;5;124mraw_input was called, but this frontend does not support input requests.\u001b[39m\u001b[38;5;124m\"\u001b[39m\n\u001b[0;32m   1201\u001b[0m     \u001b[38;5;28;01mraise\u001b[39;00m StdinNotImplementedError(msg)\n\u001b[1;32m-> 1202\u001b[0m \u001b[38;5;28;01mreturn\u001b[39;00m \u001b[38;5;28mself\u001b[39m\u001b[38;5;241m.\u001b[39m_input_request(\n\u001b[0;32m   1203\u001b[0m     \u001b[38;5;28mstr\u001b[39m(prompt),\n\u001b[0;32m   1204\u001b[0m     \u001b[38;5;28mself\u001b[39m\u001b[38;5;241m.\u001b[39m_parent_ident[\u001b[38;5;124m\"\u001b[39m\u001b[38;5;124mshell\u001b[39m\u001b[38;5;124m\"\u001b[39m],\n\u001b[0;32m   1205\u001b[0m     \u001b[38;5;28mself\u001b[39m\u001b[38;5;241m.\u001b[39mget_parent(\u001b[38;5;124m\"\u001b[39m\u001b[38;5;124mshell\u001b[39m\u001b[38;5;124m\"\u001b[39m),\n\u001b[0;32m   1206\u001b[0m     password\u001b[38;5;241m=\u001b[39m\u001b[38;5;28;01mFalse\u001b[39;00m,\n\u001b[0;32m   1207\u001b[0m )\n",
      "File \u001b[1;32m~\\anaconda3\\Lib\\site-packages\\ipykernel\\kernelbase.py:1245\u001b[0m, in \u001b[0;36mKernel._input_request\u001b[1;34m(self, prompt, ident, parent, password)\u001b[0m\n\u001b[0;32m   1242\u001b[0m \u001b[38;5;28;01mexcept\u001b[39;00m \u001b[38;5;167;01mKeyboardInterrupt\u001b[39;00m:\n\u001b[0;32m   1243\u001b[0m     \u001b[38;5;66;03m# re-raise KeyboardInterrupt, to truncate traceback\u001b[39;00m\n\u001b[0;32m   1244\u001b[0m     msg \u001b[38;5;241m=\u001b[39m \u001b[38;5;124m\"\u001b[39m\u001b[38;5;124mInterrupted by user\u001b[39m\u001b[38;5;124m\"\u001b[39m\n\u001b[1;32m-> 1245\u001b[0m     \u001b[38;5;28;01mraise\u001b[39;00m \u001b[38;5;167;01mKeyboardInterrupt\u001b[39;00m(msg) \u001b[38;5;28;01mfrom\u001b[39;00m \u001b[38;5;28;01mNone\u001b[39;00m\n\u001b[0;32m   1246\u001b[0m \u001b[38;5;28;01mexcept\u001b[39;00m \u001b[38;5;167;01mException\u001b[39;00m:\n\u001b[0;32m   1247\u001b[0m     \u001b[38;5;28mself\u001b[39m\u001b[38;5;241m.\u001b[39mlog\u001b[38;5;241m.\u001b[39mwarning(\u001b[38;5;124m\"\u001b[39m\u001b[38;5;124mInvalid Message:\u001b[39m\u001b[38;5;124m\"\u001b[39m, exc_info\u001b[38;5;241m=\u001b[39m\u001b[38;5;28;01mTrue\u001b[39;00m)\n",
      "\u001b[1;31mKeyboardInterrupt\u001b[0m: Interrupted by user"
     ]
    }
   ],
   "source": [
    "loc=int(input(\"인덱스 위치 입력 >>> \"))\n",
    "song=input(\"노래 제목 입력 >>> \")\n",
    "singer=input(\"아티스트 입력 >>> \")\n",
    "\n",
    "music_lst.insert(loc,[song,singer])\n",
    "music_lst"
   ]
  },
  {
   "cell_type": "code",
   "execution_count": 40,
   "id": "87756cd9",
   "metadata": {},
   "outputs": [
    {
     "data": {
      "text/plain": [
       "[['홀씨', '아이유'], ['butter', 'bts'], ['저 바다에 누워', '이무진']]"
      ]
     },
     "execution_count": 40,
     "metadata": {},
     "output_type": "execute_result"
    }
   ],
   "source": [
    "music_lst"
   ]
  },
  {
   "cell_type": "markdown",
   "id": "1531721c",
   "metadata": {},
   "source": [
    "#### 리스트 수정"
   ]
  },
  {
   "cell_type": "code",
   "execution_count": 50,
   "id": "b1835782",
   "metadata": {},
   "outputs": [
    {
     "data": {
      "text/plain": [
       "[0, 1, 2, 3, 4]"
      ]
     },
     "execution_count": 50,
     "metadata": {},
     "output_type": "execute_result"
    }
   ],
   "source": [
    "lst6=[0,1,2,3,4]\n",
    "lst6"
   ]
  },
  {
   "cell_type": "code",
   "execution_count": 52,
   "id": "9367d940",
   "metadata": {},
   "outputs": [
    {
     "name": "stdout",
     "output_type": "stream",
     "text": [
      "수정 전 :  1\n",
      "수정 후 :  7\n"
     ]
    }
   ],
   "source": [
    "print('수정 전 : ',lst6[1])\n",
    "lst6[1]=7\n",
    "print('수정 후 : ',lst6[1])"
   ]
  },
  {
   "cell_type": "code",
   "execution_count": 54,
   "id": "99c90d67",
   "metadata": {},
   "outputs": [
    {
     "data": {
      "text/plain": [
       "[2, 3]"
      ]
     },
     "execution_count": 54,
     "metadata": {},
     "output_type": "execute_result"
    }
   ],
   "source": [
    "lst6[2:4]\n",
    "lst6[2:4]=7 # 오류 발생 \n",
    "# 형태 오류: 반복 가능한 대상만 (수정)가능"
   ]
  },
  {
   "cell_type": "code",
   "execution_count": 55,
   "id": "b4f3545f",
   "metadata": {},
   "outputs": [
    {
     "name": "stdout",
     "output_type": "stream",
     "text": [
      "[0, 7, 2, 3, 4]\n",
      "[0, 7, 7, 4]\n"
     ]
    }
   ],
   "source": [
    "print(lst6)\n",
    "lst6[2:4]=[7]\n",
    "print(lst6)"
   ]
  },
  {
   "cell_type": "markdown",
   "id": "d72a7af2",
   "metadata": {},
   "source": [
    "#### 리스트의 삭제\n",
    "- del 키워드 사용\n",
    "- remove 함수 사용"
   ]
  },
  {
   "cell_type": "code",
   "execution_count": 56,
   "id": "da0a89d0",
   "metadata": {},
   "outputs": [
    {
     "name": "stdout",
     "output_type": "stream",
     "text": [
      "[1, 3, 4, 5, 6, 7]\n"
     ]
    }
   ],
   "source": [
    "lst7=[1,2,3,4,5,6,7]\n",
    "\n",
    "del lst7[1]\n",
    "print(lst7)"
   ]
  },
  {
   "cell_type": "code",
   "execution_count": 57,
   "id": "79ede251",
   "metadata": {},
   "outputs": [
    {
     "name": "stdout",
     "output_type": "stream",
     "text": [
      "[3, 4, 5, 6, 7]\n"
     ]
    }
   ],
   "source": [
    "lst7.remove(1)\n",
    "print(lst7)"
   ]
  },
  {
   "cell_type": "code",
   "execution_count": null,
   "id": "a541912a",
   "metadata": {},
   "outputs": [],
   "source": []
  },
  {
   "cell_type": "markdown",
   "id": "deb04400",
   "metadata": {},
   "source": [
    "#### 리스트정렬"
   ]
  },
  {
   "cell_type": "code",
   "execution_count": 5,
   "id": "4bbd5783",
   "metadata": {},
   "outputs": [
    {
     "name": "stdout",
     "output_type": "stream",
     "text": [
      "[9, 77, 67, 43, 563, 2]\n",
      "[2, 9, 43, 67, 77, 563]\n"
     ]
    }
   ],
   "source": [
    "lst8=[9,77,67,43,563,2]\n",
    "print(lst8)\n",
    "lst8.sort()\n",
    "print(lst8)"
   ]
  },
  {
   "cell_type": "code",
   "execution_count": 6,
   "id": "4e82f3d5",
   "metadata": {},
   "outputs": [
    {
     "name": "stdout",
     "output_type": "stream",
     "text": [
      "[563, 77, 67, 43, 9, 2]\n"
     ]
    }
   ],
   "source": [
    "lst8.reverse()\n",
    "print(lst8)"
   ]
  },
  {
   "cell_type": "code",
   "execution_count": 10,
   "id": "0687638a",
   "metadata": {},
   "outputs": [
    {
     "name": "stdout",
     "output_type": "stream",
     "text": [
      "[563, 77, 67, 43, 9, 2]\n"
     ]
    }
   ],
   "source": [
    "lst8.sort(reverse=True)\n",
    "print(lst8) # shift+ tab : 함수의 속성을 볼 수 있는 키워드"
   ]
  },
  {
   "cell_type": "markdown",
   "id": "dba5d687",
   "metadata": {},
   "source": [
    "#### 리스트 값 위치 반환 및 제거 함수\n",
    "- 리스트 이름.index()\n",
    "- 리스트 이름.pop()"
   ]
  },
  {
   "cell_type": "code",
   "execution_count": 21,
   "id": "ae3f5b9f",
   "metadata": {},
   "outputs": [
    {
     "data": {
      "text/plain": [
       "2"
      ]
     },
     "execution_count": 21,
     "metadata": {},
     "output_type": "execute_result"
    }
   ],
   "source": [
    "lst9=['a','b','c','d','e','f']\n",
    "lst9.index('c') #'c' 라는 요소가 있는 인덱스 위치 반환"
   ]
  },
  {
   "cell_type": "code",
   "execution_count": 49,
   "id": "1e98776d",
   "metadata": {
    "scrolled": true
   },
   "outputs": [
    {
     "data": {
      "text/plain": [
       "'a'"
      ]
     },
     "execution_count": 49,
     "metadata": {},
     "output_type": "execute_result"
    }
   ],
   "source": [
    "lst9.pop() #리스트 맨 뒤에 있는 값을 찾아서 반환해준 뒤 삭제"
   ]
  },
  {
   "cell_type": "markdown",
   "id": "6181fc7a",
   "metadata": {},
   "source": [
    "#### ★리스트 길이 확인★"
   ]
  },
  {
   "cell_type": "code",
   "execution_count": 25,
   "id": "e89beba8",
   "metadata": {},
   "outputs": [
    {
     "data": {
      "text/plain": [
       "[1, 2, 3, 4, 5, 6, 4, 645, 654, 6, 456, 4, 6, 456, 4, 6, 46, 456, 45, 6, 6]"
      ]
     },
     "execution_count": 25,
     "metadata": {},
     "output_type": "execute_result"
    }
   ],
   "source": [
    "lst10=[1,2,3,4,5,6,4,645,654,6,456,4,6,456,4,6,46,456,45,6,6]\n",
    "lst10"
   ]
  },
  {
   "cell_type": "code",
   "execution_count": 26,
   "id": "bd6814f7",
   "metadata": {},
   "outputs": [
    {
     "data": {
      "text/plain": [
       "21"
      ]
     },
     "execution_count": 26,
     "metadata": {},
     "output_type": "execute_result"
    }
   ],
   "source": [
    "len(lst10)"
   ]
  },
  {
   "cell_type": "code",
   "execution_count": 27,
   "id": "59557300",
   "metadata": {},
   "outputs": [],
   "source": [
    "# 길이 != 인덱스 번호 \n",
    "# 길이== 요소의 개수\n",
    "# 인덱스 번호== 끝 번호"
   ]
  },
  {
   "cell_type": "markdown",
   "id": "7b8e1258",
   "metadata": {},
   "source": [
    "### 튜플\n",
    "- 파이썬의 자료 구조 형태 중 하나\n",
    "- 순서가 있는 집합으로 추가, 수정, 삭제 불가능\n",
    "- 기호는 소괄호 사용\n",
    "-  요소는 콤마로 구분"
   ]
  },
  {
   "cell_type": "code",
   "execution_count": 28,
   "id": "ba48762d",
   "metadata": {},
   "outputs": [],
   "source": [
    "a=()\n",
    "b=(1,2,3)\n",
    "c=('my','name','is')\n",
    "d=(1,2,'name','is')\n",
    "e=(1,2,('name','is'))"
   ]
  },
  {
   "cell_type": "markdown",
   "id": "5ac28f0e",
   "metadata": {},
   "source": [
    "#### 튜플 인덱싱\n",
    "- 튜플 이름[인덱싱번호]"
   ]
  },
  {
   "cell_type": "code",
   "execution_count": 29,
   "id": "e499656a",
   "metadata": {},
   "outputs": [
    {
     "data": {
      "text/plain": [
       "(0, 1, 2, 3, ('a', 'b', 'c'), 5)"
      ]
     },
     "execution_count": 29,
     "metadata": {},
     "output_type": "execute_result"
    }
   ],
   "source": [
    "tp1=(0,1,2,3,('a','b','c'),5)\n",
    "tp1"
   ]
  },
  {
   "cell_type": "code",
   "execution_count": 30,
   "id": "52ff8765",
   "metadata": {},
   "outputs": [
    {
     "data": {
      "text/plain": [
       "2"
      ]
     },
     "execution_count": 30,
     "metadata": {},
     "output_type": "execute_result"
    }
   ],
   "source": [
    "tp1[2] #2번 인덱스 위치 값에 접근"
   ]
  },
  {
   "cell_type": "code",
   "execution_count": 31,
   "id": "fe6d3df7",
   "metadata": {},
   "outputs": [
    {
     "data": {
      "text/plain": [
       "('a', 'b', 'c')"
      ]
     },
     "execution_count": 31,
     "metadata": {},
     "output_type": "execute_result"
    }
   ],
   "source": [
    "tp1[4] #4번 인덱스 위치 값에 접근"
   ]
  },
  {
   "cell_type": "markdown",
   "id": "4ca3f890",
   "metadata": {},
   "source": [
    "#### 튜플 슬라이싱\n",
    "튜플이름.[시작 인덱스 번호: 끝 인덱스 번호 +1]"
   ]
  },
  {
   "cell_type": "code",
   "execution_count": 32,
   "id": "ff4f3e5b",
   "metadata": {},
   "outputs": [
    {
     "data": {
      "text/plain": [
       "(0, 1, 2, 3, ('a', 'b', 'c'), 5)"
      ]
     },
     "execution_count": 32,
     "metadata": {},
     "output_type": "execute_result"
    }
   ],
   "source": [
    "tp1"
   ]
  },
  {
   "cell_type": "code",
   "execution_count": 33,
   "id": "23b4ebe7",
   "metadata": {},
   "outputs": [
    {
     "data": {
      "text/plain": [
       "(1, 2)"
      ]
     },
     "execution_count": 33,
     "metadata": {},
     "output_type": "execute_result"
    }
   ],
   "source": [
    "tp1[1:3]"
   ]
  },
  {
   "cell_type": "code",
   "execution_count": 34,
   "id": "b8d45c8b",
   "metadata": {},
   "outputs": [
    {
     "data": {
      "text/plain": [
       "(3, ('a', 'b', 'c'), 5)"
      ]
     },
     "execution_count": 34,
     "metadata": {},
     "output_type": "execute_result"
    }
   ],
   "source": [
    "#인덱스 3번 부터 요소 끝까지 접근\n",
    "tp1[3:]"
   ]
  },
  {
   "cell_type": "markdown",
   "id": "654a4813",
   "metadata": {},
   "source": [
    "#### 튜플은 내부 요소 변경 불가"
   ]
  },
  {
   "cell_type": "code",
   "execution_count": 35,
   "id": "20c375e6",
   "metadata": {},
   "outputs": [
    {
     "ename": "TypeError",
     "evalue": "'tuple' object does not support item assignment",
     "output_type": "error",
     "traceback": [
      "\u001b[1;31m---------------------------------------------------------------------------\u001b[0m",
      "\u001b[1;31mTypeError\u001b[0m                                 Traceback (most recent call last)",
      "Cell \u001b[1;32mIn[35], line 2\u001b[0m\n\u001b[0;32m      1\u001b[0m tp2\u001b[38;5;241m=\u001b[39m(\u001b[38;5;124m'\u001b[39m\u001b[38;5;124ma\u001b[39m\u001b[38;5;124m'\u001b[39m,\u001b[38;5;124m'\u001b[39m\u001b[38;5;124mb\u001b[39m\u001b[38;5;124m'\u001b[39m,\u001b[38;5;124m'\u001b[39m\u001b[38;5;124mc\u001b[39m\u001b[38;5;124m'\u001b[39m)\n\u001b[1;32m----> 2\u001b[0m tp2[\u001b[38;5;241m1\u001b[39m]\u001b[38;5;241m=\u001b[39m\u001b[38;5;124m'\u001b[39m\u001b[38;5;124md\u001b[39m\u001b[38;5;124m'\u001b[39m\n",
      "\u001b[1;31mTypeError\u001b[0m: 'tuple' object does not support item assignment"
     ]
    }
   ],
   "source": [
    "tp2=('a','b','c')\n",
    "tp2[1]='d'\n",
    "# 튜플은 내부 요소 값의 변경이 불가능하다."
   ]
  },
  {
   "cell_type": "markdown",
   "id": "bfb90378",
   "metadata": {},
   "source": [
    "#### 튜플 길이 확인"
   ]
  },
  {
   "cell_type": "code",
   "execution_count": 37,
   "id": "bb4dc401",
   "metadata": {},
   "outputs": [
    {
     "name": "stdout",
     "output_type": "stream",
     "text": [
      "('a', 'b', 'c')\n"
     ]
    },
    {
     "data": {
      "text/plain": [
       "3"
      ]
     },
     "execution_count": 37,
     "metadata": {},
     "output_type": "execute_result"
    }
   ],
   "source": [
    "print(tp2)\n",
    "len(tp2)"
   ]
  },
  {
   "cell_type": "markdown",
   "id": "b2158cc4",
   "metadata": {},
   "source": [
    "#### 해당 데이터의 포함여부 확인\n",
    "- 멤버 연산자: 포함관계를 boolean자료형으로 출력"
   ]
  },
  {
   "cell_type": "code",
   "execution_count": 38,
   "id": "c1d3c129",
   "metadata": {},
   "outputs": [
    {
     "data": {
      "text/plain": [
       "False"
      ]
     },
     "execution_count": 38,
     "metadata": {},
     "output_type": "execute_result"
    }
   ],
   "source": [
    "str1=\" 파이썬 쵝오\"\n",
    "'최고' in str1"
   ]
  },
  {
   "cell_type": "code",
   "execution_count": 39,
   "id": "8926d462",
   "metadata": {},
   "outputs": [
    {
     "data": {
      "text/plain": [
       "True"
      ]
     },
     "execution_count": 39,
     "metadata": {},
     "output_type": "execute_result"
    }
   ],
   "source": [
    "str1=\" 파이썬 쵝오\"\n",
    "'최고' not in str1"
   ]
  },
  {
   "cell_type": "markdown",
   "id": "74a2a973",
   "metadata": {},
   "source": [
    "- 실습 예제\n",
    "- 다음과 같이 리스트에 사용자가 입력한 글자가 어디에 포함되어 있는지 출력 하는 프로그램을 만들어보자"
   ]
  },
  {
   "attachments": {
    "image.png": {
     "image/png": "[encoded data removed]"
    }
   },
   "cell_type": "markdown",
   "id": "2f71fae7",
   "metadata": {},
   "source": [
    "![image.png](attachment:image.png)"
   ]
  },
  {
   "cell_type": "code",
   "execution_count": 51,
   "id": "0fe5332d",
   "metadata": {},
   "outputs": [
    {
     "name": "stdout",
     "output_type": "stream",
     "text": [
      "*********************************************\n",
      "검색할 문자를 입력하세요 >> 오렌지\n",
      "오렌지는 리스트에 없습니다.\n",
      "해당 문자를 추가 할지 선택해주세요, Y or N >> Y\n",
      "['딸기', '망고', '패션후르츠', '수박', '바나나', '오렌지']\n",
      "*********************************************\n"
     ]
    }
   ],
   "source": [
    "lst=['딸기','망고','패션후르츠','수박','바나나']\n",
    "print(\"*\"*45)\n",
    "fu=input(\"검색할 문자를 입력하세요 >> \")\n",
    "if fu in lst:\n",
    "    print(f'{fu}는 리스트의{lst.index(fu)} 번에 있습니다')\n",
    "else:\n",
    "    print(f'{fu}는 리스트에 없습니다.')\n",
    "    an=input(\"해당 문자를 추가 할지 선택해주세요, Y or N >> \")\n",
    "    if an==\"Y\":\n",
    "        lst.append(fu)\n",
    "        print(lst)\n",
    "        \n",
    "    elif an==\"N\":\n",
    "        print(f'{fu}는 리스트에 추가되지 않았습니다')\n",
    "        \n",
    "    else:\n",
    "        print(\"Y or N 중 하나만 선택하십시오\")\n",
    "    \n",
    "print(\"*\"*45)"
   ]
  },
  {
   "cell_type": "code",
   "execution_count": null,
   "id": "640f5c85",
   "metadata": {},
   "outputs": [],
   "source": []
  }
 ],
 "metadata": {
  "kernelspec": {
   "display_name": "Python 3 (ipykernel)",
   "language": "python",
   "name": "python3"
  },
  "language_info": {
   "codemirror_mode": {
    "name": "ipython",
    "version": 3
   },
   "file_extension": ".py",
   "mimetype": "text/x-python",
   "name": "python",
   "nbconvert_exporter": "python",
   "pygments_lexer": "ipython3",
   "version": "3.11.5"
  }
 },
 "nbformat": 4,
 "nbformat_minor": 5
}
