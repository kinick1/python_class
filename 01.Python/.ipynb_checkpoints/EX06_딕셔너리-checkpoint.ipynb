{
 "cells": [
  {
   "cell_type": "markdown",
   "id": "2395e1b3",
   "metadata": {},
   "source": [
    "### 딕셔너리\n",
    "- dictionary 는 사전이라는 뜻을 가짐\n",
    "- baseball 이라는 단어가 야구 라는 단어레 부합하듯 key와 value를 한 쌍으로 갖는 자료형\n",
    "- 기본형식\n",
    "    - a={}\n",
    "    - b={\"name\":\"ms\"}\n",
    "    - c={1:5,2:4}"
   ]
  },
  {
   "cell_type": "markdown",
   "id": "685a8439",
   "metadata": {},
   "source": [
    "#### 딕셔너리 선언 및 타입 확인"
   ]
  },
  {
   "cell_type": "code",
   "execution_count": 3,
   "id": "cf8c741c",
   "metadata": {},
   "outputs": [
    {
     "name": "stdout",
     "output_type": "stream",
     "text": [
      "{'name': 'kj', 'age': '24', 'phone': '010-9809-0199'}\n"
     ]
    }
   ],
   "source": [
    "dic1={\"name\":\"kj\",\"age\":\"24\",\"phone\":\"010-9809-0199\"}\n",
    "print(dic1)"
   ]
  },
  {
   "cell_type": "code",
   "execution_count": 7,
   "id": "2f747e50",
   "metadata": {},
   "outputs": [
    {
     "name": "stdout",
     "output_type": "stream",
     "text": [
      "<class 'dict'>\n"
     ]
    }
   ],
   "source": [
    "print(type(dic1))"
   ]
  },
  {
   "cell_type": "markdown",
   "id": "f4839ad3",
   "metadata": {},
   "source": [
    "#### 딕셔너리에 값 추가"
   ]
  },
  {
   "cell_type": "code",
   "execution_count": 52,
   "id": "0a118fe4",
   "metadata": {},
   "outputs": [
    {
     "name": "stdout",
     "output_type": "stream",
     "text": [
      "{'name': 'kj', 'age': '24', 'phone': '010-9809-0199', 'birth': '01/11'}\n"
     ]
    }
   ],
   "source": [
    "dic1['birth']=\"01/11\"\n",
    "print(dic1)"
   ]
  },
  {
   "cell_type": "code",
   "execution_count": 14,
   "id": "ea48f4cc",
   "metadata": {},
   "outputs": [
    {
     "data": {
      "text/plain": [
       "{'노래제목': '아무노래'}"
      ]
     },
     "execution_count": 14,
     "metadata": {},
     "output_type": "execute_result"
    }
   ],
   "source": [
    "dic_test={'노래제목':'아무노래'}\n",
    "dic_test"
   ]
  },
  {
   "cell_type": "code",
   "execution_count": 13,
   "id": "339bc9ab",
   "metadata": {},
   "outputs": [
    {
     "data": {
      "text/plain": [
       "{'노래제목': '아무노래', '가수': '지코', '발매날짜': '2020.01.13'}"
      ]
     },
     "execution_count": 13,
     "metadata": {},
     "output_type": "execute_result"
    }
   ],
   "source": [
    "#did_test라는 딕셔너리에 가수:지코, 발매날짜:2020.01.13\n",
    "dic_test['가수']='지코'\n",
    "dic_test['발매날짜']='2020.01.13'\n",
    "dic_test"
   ]
  },
  {
   "cell_type": "code",
   "execution_count": 15,
   "id": "fb1f425f",
   "metadata": {},
   "outputs": [
    {
     "data": {
      "text/plain": [
       "{'노래제목': '아무노래'}"
      ]
     },
     "execution_count": 15,
     "metadata": {},
     "output_type": "execute_result"
    }
   ],
   "source": [
    "dic_test\n"
   ]
  },
  {
   "cell_type": "markdown",
   "id": "00adebbd",
   "metadata": {},
   "source": [
    "### 값 가져오기"
   ]
  },
  {
   "cell_type": "code",
   "execution_count": 18,
   "id": "e4245b22",
   "metadata": {},
   "outputs": [
    {
     "data": {
      "text/plain": [
       "'kj'"
      ]
     },
     "execution_count": 18,
     "metadata": {},
     "output_type": "execute_result"
    }
   ],
   "source": [
    "#이름 접근\n",
    "dic1['name']"
   ]
  },
  {
   "cell_type": "code",
   "execution_count": 20,
   "id": "bc2c489e",
   "metadata": {},
   "outputs": [
    {
     "data": {
      "text/plain": [
       "'01/11'"
      ]
     },
     "execution_count": 20,
     "metadata": {},
     "output_type": "execute_result"
    }
   ],
   "source": [
    "dic1['birth']"
   ]
  },
  {
   "cell_type": "code",
   "execution_count": 21,
   "id": "73e13cfc",
   "metadata": {},
   "outputs": [
    {
     "data": {
      "text/plain": [
       "'kj'"
      ]
     },
     "execution_count": 21,
     "metadata": {},
     "output_type": "execute_result"
    }
   ],
   "source": [
    "dic1.get('name')"
   ]
  },
  {
   "cell_type": "code",
   "execution_count": 1,
   "id": "7361dd13",
   "metadata": {},
   "outputs": [
    {
     "ename": "NameError",
     "evalue": "name 'dic1' is not defined",
     "output_type": "error",
     "traceback": [
      "\u001b[1;31m---------------------------------------------------------------------------\u001b[0m",
      "\u001b[1;31mNameError\u001b[0m                                 Traceback (most recent call last)",
      "Cell \u001b[1;32mIn[1], line 1\u001b[0m\n\u001b[1;32m----> 1\u001b[0m \u001b[38;5;28mprint\u001b[39m(dic1[\u001b[38;5;124m'\u001b[39m\u001b[38;5;124mtall\u001b[39m\u001b[38;5;124m'\u001b[39m])\n\u001b[0;32m      2\u001b[0m dic1\u001b[38;5;241m.\u001b[39mget(\u001b[38;5;124m'\u001b[39m\u001b[38;5;124mtall\u001b[39m\u001b[38;5;124m'\u001b[39m)\n",
      "\u001b[1;31mNameError\u001b[0m: name 'dic1' is not defined"
     ]
    }
   ],
   "source": [
    "print(dic1['tall'])\n",
    "dic1.get('tall')"
   ]
  },
  {
   "cell_type": "markdown",
   "id": "317d21d1",
   "metadata": {},
   "source": [
    "#### 딕셔너리 키 값만 가져오기"
   ]
  },
  {
   "cell_type": "code",
   "execution_count": 6,
   "id": "11639acf",
   "metadata": {},
   "outputs": [
    {
     "data": {
      "text/plain": [
       "dict_keys(['name', 'age', 'phone'])"
      ]
     },
     "execution_count": 6,
     "metadata": {},
     "output_type": "execute_result"
    }
   ],
   "source": [
    "dic1.keys()"
   ]
  },
  {
   "cell_type": "markdown",
   "id": "eda25bee",
   "metadata": {},
   "source": [
    "#### 딕셔너리 벨류값만 가져오기"
   ]
  },
  {
   "cell_type": "code",
   "execution_count": 9,
   "id": "9e0802fe",
   "metadata": {},
   "outputs": [
    {
     "data": {
      "text/plain": [
       "dict_values(['kj', '24', '010-9809-0199'])"
      ]
     },
     "execution_count": 9,
     "metadata": {},
     "output_type": "execute_result"
    }
   ],
   "source": [
    "dic1.values()"
   ]
  },
  {
   "cell_type": "markdown",
   "id": "6fb09177",
   "metadata": {},
   "source": [
    "#### 딕셔너리의 아이템 벨류(키값 벨류값) 모두 가져오기"
   ]
  },
  {
   "cell_type": "code",
   "execution_count": 12,
   "id": "994afd68",
   "metadata": {},
   "outputs": [
    {
     "data": {
      "text/plain": [
       "dict_items([('name', 'kj'), ('age', '24'), ('phone', '010-9809-0199')])"
      ]
     },
     "execution_count": 12,
     "metadata": {},
     "output_type": "execute_result"
    }
   ],
   "source": [
    "dic1.items()"
   ]
  },
  {
   "cell_type": "code",
   "execution_count": 17,
   "id": "cc9a306f",
   "metadata": {},
   "outputs": [
    {
     "data": {
      "text/plain": [
       "[('name', 'kj'), ('age', '24'), ('phone', '010-9809-0199')]"
      ]
     },
     "execution_count": 17,
     "metadata": {},
     "output_type": "execute_result"
    }
   ],
   "source": [
    "# tip\n",
    "# 아이템들을 리스트로 보고 싶을 때 -->\n",
    "dic_lst=list(dic1.items())\n",
    "dic_lst"
   ]
  },
  {
   "cell_type": "markdown",
   "id": "987e241b",
   "metadata": {},
   "source": [
    "### 딕셔너리와  for문의 환장의 콜라보"
   ]
  },
  {
   "cell_type": "code",
   "execution_count": 57,
   "id": "8320a105",
   "metadata": {},
   "outputs": [
    {
     "name": "stdout",
     "output_type": "stream",
     "text": [
      "('name', 'kj')\n",
      "('age', '24')\n",
      "('phone', '010-9809-0199')\n",
      "('birth', '01/11')\n"
     ]
    }
   ],
   "source": [
    "for key in dic1.items(): # keys,items,values를 사용하면 리스트 형태로 key값들이 순서를 갖게됨\n",
    "    print(key)"
   ]
  },
  {
   "cell_type": "markdown",
   "id": "edef453a",
   "metadata": {},
   "source": [
    "딕셔너리와 for문을 활용한 예제"
   ]
  },
  {
   "cell_type": "code",
   "execution_count": 59,
   "id": "d39066bb",
   "metadata": {},
   "outputs": [
    {
     "data": {
      "text/plain": [
       "{'name': ['kj', 'jk', 'khw', 'abc', 'def'],\n",
       " 'Python': [90, 50, 60, 80, 100],\n",
       " 'Java': [80, 90, 70, 60, 30],\n",
       " 'html/css': [80, 95, 80, 75, 50]}"
      ]
     },
     "execution_count": 59,
     "metadata": {},
     "output_type": "execute_result"
    }
   ],
   "source": []
  },
  {
   "attachments": {
    "image-2.png": {
     "image/png": "[encoded data removed]"
    },
    "image.png": {
     "image/png": "[encoded data removed]"
    }
   },
   "cell_type": "markdown",
   "id": "87de3198",
   "metadata": {},
   "source": [
    "![image.png](attachment:image.png)\n",
    "![image-2.png](attachment:image-2.png)"
   ]
  },
  {
   "cell_type": "code",
   "execution_count": 1,
   "id": "8c158416",
   "metadata": {},
   "outputs": [
    {
     "data": {
      "text/plain": [
       "{'name': ['kj', 'jk', 'khw', 'abc', 'def'],\n",
       " 'Python': [90, 50, 60, 80, 100],\n",
       " 'Java': [80, 90, 70, 60, 30],\n",
       " 'html/css': [80, 95, 80, 75, 50]}"
      ]
     },
     "execution_count": 1,
     "metadata": {},
     "output_type": "execute_result"
    }
   ],
   "source": [
    "score_dic={'name':['kj','jk','khw','abc','def'],\n",
    "          'Python':[90,50,60,80,100],\n",
    "          'Java':[80,90,70,60,30],\n",
    "          'html/css' : [80,95,80,75,50]\n",
    "          }\n",
    "score_dic"
   ]
  },
  {
   "cell_type": "code",
   "execution_count": 10,
   "id": "5f17a30b",
   "metadata": {},
   "outputs": [
    {
     "name": "stdout",
     "output_type": "stream",
     "text": [
      "4\n"
     ]
    }
   ],
   "source": [
    "a=len(score_dic)\n",
    "print(a)"
   ]
  },
  {
   "cell_type": "code",
   "execution_count": 5,
   "id": "21d01a08",
   "metadata": {},
   "outputs": [
    {
     "name": "stdout",
     "output_type": "stream",
     "text": [
      "76.0\n"
     ]
    }
   ],
   "source": [
    "# 1. python 과목의 평균 점수 평균점수 구하기\n",
    "score_dic['Python']\n",
    "sum1=0\n",
    "a=len(score_dic['Python'])\n",
    "for i in score_dic['Python']:\n",
    "    sum1+=i\n",
    "    \n",
    "print(sum1/a)"
   ]
  },
  {
   "cell_type": "code",
   "execution_count": 104,
   "id": "f286a93e",
   "metadata": {},
   "outputs": [
    {
     "name": "stdout",
     "output_type": "stream",
     "text": [
      "Python의 평균 : 76.0\n",
      "Java의 평균 : 66.0\n",
      "html/css의 평균 : 76.0\n",
      "\n"
     ]
    }
   ],
   "source": [
    "# 2. 각 과목의 평균 구하기\n",
    "sum1=0\n",
    "\n",
    "for i in score_dic['Python']:\n",
    "    cnt+=1\n",
    "    sum1+=i\n",
    "\n",
    "sum2=0\n",
    "cnt=0\n",
    "for a in score_dic['Java']:\n",
    "    cnt+=1\n",
    "    sum2+=a\n",
    "    \n",
    "sum3=0\n",
    "cnt=0\n",
    "for b in score_dic['html/css']:\n",
    "    cnt+=1\n",
    "    sum3+=b\n",
    "    \n",
    "print(f'Python의 평균 : {sum1/cnt}\\nJava의 평균 : {sum2/cnt}\\nhtml/css의 평균 : {sum3/cnt}\\n')\n"
   ]
  },
  {
   "cell_type": "code",
   "execution_count": 20,
   "id": "3850c526",
   "metadata": {},
   "outputs": [
    {
     "name": "stdout",
     "output_type": "stream",
     "text": [
      "파이썬 평균 : 76.0\n",
      "자바 평균 : 66.0\n",
      "html 평균 : 76.0\n"
     ]
    }
   ],
   "source": [
    "# 2번 간략화 버전 \n",
    "py,jv,hc=0,0,0\n",
    "for key in score_dic:\n",
    "    cnt = len(score_dic[key])\n",
    "    if key == 'Python':\n",
    "        py=sum(score_dic[key])/cnt\n",
    "    elif key==\"Java\":\n",
    "        jv=sum(score_dic[key])/cnt\n",
    "    elif key==\"html/css\":\n",
    "        hc=sum(score_dic[key])/cnt\n",
    "        \n",
    "print(f'파이썬 평균 : {py}\\n자바 평균 : {jv}\\nhtml 평균 : {hc}')"
   ]
  },
  {
   "cell_type": "code",
   "execution_count": 31,
   "id": "43f23cfe",
   "metadata": {},
   "outputs": [
    {
     "name": "stdout",
     "output_type": "stream",
     "text": [
      "Python 평균 : 76.0\n",
      "Java 평균 : 66.0\n",
      "html/css 평균 : 76.0\n"
     ]
    }
   ],
   "source": [
    "# 2번 초간략화 버전\n",
    "avg=0\n",
    "for i in list(score_dic.keys())[1:]:\n",
    "    cnt = len(score_dic[i])\n",
    "    avg=sum(score_dic[i])/cnt\n",
    "    print(f'{i} 평균 : {avg}')"
   ]
  },
  {
   "cell_type": "code",
   "execution_count": 25,
   "id": "dfbaa75e",
   "metadata": {},
   "outputs": [
    {
     "name": "stdout",
     "output_type": "stream",
     "text": [
      "이름을 입력하세요: kj\n",
      "kj의 성적 평균은 83.3 입니다.\n"
     ]
    }
   ],
   "source": [
    "# 3. 이름을 입력받아서 해당 이름이 있으면 그사람의 성적의 평균을 구하시오\n",
    "name = input(\"이름을 입력하세요: \")\n",
    "\n",
    "if name in score_dic['name']:\n",
    "    index = score_dic['name'].index(name)\n",
    "    avg_score = (score_dic['Python'][index] + score_dic['Java'][index] + score_dic['html/css'][index]) / 3\n",
    "    print(f\"{name}의 성적 평균은 {round(avg_score,1)} 입니다.\")\n",
    "else:\n",
    "    print(\"해당하는 이름이 없습니다.\")"
   ]
  },
  {
   "cell_type": "code",
   "execution_count": 43,
   "id": "956d02d2",
   "metadata": {},
   "outputs": [
    {
     "name": "stdout",
     "output_type": "stream",
     "text": [
      "이름을 입력하세요: ㅓㅏ\n",
      "그런 사람읎다 골딱아\n"
     ]
    }
   ],
   "source": [
    "name = input(\"이름을 입력하세요: \")\n",
    "\n",
    "score_lst=list(score_dic)\n",
    "cnt=len(score_lst[1:])\n",
    "\n",
    "if name in score_dic['name']:\n",
    "    index = score_dic['name'].index(name)\n",
    "    avg_score = (score_dic['Python'][index]+score_dic['Java'][index]+score_dic['html/css'][index])/cnt\n",
    "    print(f\"{name}의 성적 평균은 {round(avg_score,1)} 입니다.\")\n",
    "    #check =False\n",
    "else:\n",
    "    print(\"그런 사람읎다 골딱아\")"
   ]
  },
  {
   "cell_type": "code",
   "execution_count": 44,
   "id": "82d030ab",
   "metadata": {},
   "outputs": [
    {
     "name": "stdout",
     "output_type": "stream",
     "text": [
      "3\n"
     ]
    }
   ],
   "source": []
  },
  {
   "cell_type": "code",
   "execution_count": null,
   "id": "d5a824c6",
   "metadata": {},
   "outputs": [],
   "source": []
  }
 ],
 "metadata": {
  "kernelspec": {
   "display_name": "Python 3 (ipykernel)",
   "language": "python",
   "name": "python3"
  },
  "language_info": {
   "codemirror_mode": {
    "name": "ipython",
    "version": 3
   },
   "file_extension": ".py",
   "mimetype": "text/x-python",
   "name": "python",
   "nbconvert_exporter": "python",
   "pygments_lexer": "ipython3",
   "version": "3.11.5"
  }
 },
 "nbformat": 4,
 "nbformat_minor": 5
}
